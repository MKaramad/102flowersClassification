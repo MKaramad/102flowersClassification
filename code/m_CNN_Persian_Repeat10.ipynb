{
  "cells": [
    {
      "cell_type": "code",
      "execution_count": 1,
      "metadata": {
        "id": "ITBKJU0WAvd4"
      },
      "outputs": [],
      "source": [
        "#%pip install autotime\n",
        "#%load_ext autotime"
      ]
    },
    {
      "cell_type": "code",
      "execution_count": 2,
      "metadata": {},
      "outputs": [
        {
          "name": "stdout",
          "output_type": "stream",
          "text": [
            "Available devices: [PhysicalDevice(name='/physical_device:CPU:0', device_type='CPU')]\n",
            "GPU is not available. The code will run on CPU.\n"
          ]
        }
      ],
      "source": [
        "import tensorflow as tf\n",
        "\n",
        "# Print list of available devices\n",
        "devices = tf.config.list_physical_devices()\n",
        "print(\"Available devices:\", devices)\n",
        "\n",
        "# Check if GPU is available\n",
        "if tf.config.list_physical_devices('GPU'):\n",
        "    print(\"GPU is available and will be used.\")\n",
        "else:\n",
        "    print(\"GPU is not available. The code will run on CPU.\")"
      ]
    },
    {
      "cell_type": "code",
      "execution_count": 3,
      "metadata": {
        "colab": {
          "base_uri": "https://localhost:8080/"
        },
        "id": "rLlE7uBv1PzH",
        "outputId": "79bd2600-f12a-40af-e06f-071d4ca15622"
      },
      "outputs": [],
      "source": [
        "import os,re,sys,pickle\n",
        "import pandas as pd\n",
        "import tensorflow.keras.backend as K\n",
        "from gensim.corpora import Dictionary\n",
        "from keras.preprocessing.sequence import pad_sequences\n",
        "from hazm import Normalizer, POSTagger, word_tokenize, Lemmatizer, stopwords_list#from konlpy.tag import Twitter,Okt\n",
        "from parsivar import FindStems\n",
        "import numpy as np\n",
        "from keras.layers import Input, Dense, Embedding, Conv2D, MaxPool2D,Reshape, Flatten, Dropout, Concatenate\n",
        "from keras.models import Model\n",
        "from keras.layers import BatchNormalization #from keras.layers.normalization import BatchNormalization\n",
        "from keras import regularizers\n"
      ]
    },
    {
      "cell_type": "code",
      "execution_count": 4,
      "metadata": {
        "colab": {
          "base_uri": "https://localhost:8080/"
        },
        "id": "LA6YxxjfHAbp",
        "outputId": "21ce34d7-c52d-44d8-97af-cf985850bdf0"
      },
      "outputs": [],
      "source": [
        "# Set Directories \n",
        "\n",
        "pardir = os.path.dirname(os.getcwd())\n",
        "PATH = os.path.join(pardir,\"data\\\\caption_all_fa\\\\\")\n",
        "os.chdir(PATH)\n",
        "SAVED = os.path.join(pardir,\"data\\\\saved\\\\\")"
      ]
    },
    {
      "cell_type": "code",
      "execution_count": 5,
      "metadata": {
        "colab": {
          "base_uri": "https://localhost:8080/"
        },
        "id": "muDx4aErmeSu",
        "outputId": "e22e0747-96a6-4e38-97e3-e8ec37428d13"
      },
      "outputs": [],
      "source": [
        "# Prepare for data\n",
        "\n",
        "def load_doc(filename):\n",
        "\tfile = open(file=filename, mode='r', encoding=\"utf-8\")\n",
        "\ttext = file.read()\n",
        "\tfile.close()\n",
        "\treturn text\n",
        "\n",
        "# Map filename to image, text, label for train,evaluation and test\n",
        "def load_clean_descriptions(filename, dataset):\n",
        "\tdoc = load_doc(filename)\n",
        "\tdescriptions = dict()\n",
        "\tfor line in doc.split('\\n'):\n",
        "\t\ttokens = line.split()\n",
        "\t\timage_id, image_desc = tokens[0], tokens[1:]\n",
        "\t\tif image_id in dataset:\n",
        "\t\t\tif image_id not in descriptions:\n",
        "\t\t\t\tdescriptions[image_id] = list()\n",
        "\t\t\tdesc = ' '.join(image_desc)\n",
        "\t\t\tdescriptions[image_id].append(desc)\n",
        "\treturn descriptions\n",
        "\n",
        "# Since we are to freeze the VGG16, we have\n",
        "# saved corresponding features for our data\n",
        "# This function is to load those features\n",
        "def load_photo_features(filename, dataset):\n",
        "\tall_features = pickle.load(open(filename, 'rb'))\n",
        "\tfeatures = {k: all_features[k] for k in dataset}\n",
        "\treturn features\n",
        "\n",
        "def load_clean_class(filename, dataset):\n",
        "\tdoc = load_doc(filename)\n",
        "\tdescriptions = dict()\n",
        "\tfor line in doc.split('\\n'):\n",
        "\t\ttokens = line.split()\n",
        "\t\timage_id, image_desc = tokens[0], tokens[1]\n",
        "\t\tif image_desc in dataset:\n",
        "\t\t\tif image_desc not in descriptions:\n",
        "\t\t\t\tdescriptions[image_desc] = list()\n",
        "\t\t\tdescriptions[image_desc].append(image_id)\n",
        "\treturn descriptions\n",
        "\n",
        "# OneHot\n",
        "def load_class_dummy(filename, dataset):\n",
        "\tdoc = load_doc(filename)\n",
        "\tdescriptions = dict()\n",
        "\tfor line in doc.split('\\n'):\n",
        "\t\ttokens = line.split()\n",
        "\t\timage_id, image_desc = tokens[0], tokens[1]\n",
        "\t\tif image_desc in dataset:\n",
        "\t\t\tif image_desc not in descriptions:\n",
        "\t\t\t\tdescriptions[image_desc] = list()\n",
        "\t\t\timage_id=dummies_dict[image_id]\n",
        "\t\t\tdescriptions[image_desc].append(image_id)\n",
        "\treturn descriptions\n",
        "\n",
        "#Class to one_hot_vector dictionary \n",
        "folder_names = []\n",
        "\n",
        "for entry_name in os.listdir(PATH):\n",
        "    entry_path = os.path.join(PATH, entry_name)\n",
        "    if os.path.isdir(entry_path):\n",
        "        folder_names.append(entry_name)\n",
        "folder_names =sorted(folder_names)\n",
        "\n",
        "dummies = pd.get_dummies(folder_names)\n",
        "dummies_list=dummies.values.tolist()\n",
        "dummies_dict=dict(zip(folder_names,dummies_list))"
      ]
    },
    {
      "cell_type": "code",
      "execution_count": 6,
      "metadata": {
        "colab": {
          "base_uri": "https://localhost:8080/"
        },
        "id": "MQ4LU1PUms26",
        "outputId": "625bc483-4581-4d9c-ee7d-c0252f51ee38"
      },
      "outputs": [
        {
          "name": "stdout",
          "output_type": "stream",
          "text": [
            "Descriptions: train=5246\n",
            "Photos: train=5246\n",
            "Descriptions: train=5246\n",
            "Descriptions: val=1310\n",
            "Photos: val=1310\n",
            "Descriptions: val=1310\n",
            "Descriptions: test=1633\n",
            "Photos: test=1633\n",
            "Descriptions: test=1633\n"
          ]
        }
      ],
      "source": [
        "#Image, text, label dictionary for train \n",
        "filename = SAVED+'/train_image.txt'\n",
        "train=[]\n",
        "with open(file=filename, encoding='utf-8', mode='r') as f:\n",
        "    for line in f.read().splitlines():\n",
        "        train=train+[line.split(',')[0][:-4]]\n",
        "\n",
        "train_descriptions = load_clean_descriptions(SAVED+'flower_text_tagged_fa.txt', train)\n",
        "print('Descriptions: train=%d' % len(train_descriptions))\n",
        "\n",
        "with open(SAVED+\"train_image_features.pkl\",\"rb\") as f:\n",
        "    train_features = pickle.load(f)\n",
        "\n",
        "print('Photos: train=%d' % len(train_features))\n",
        "\n",
        "train_class = load_clean_class(SAVED+'flower_class.txt', train)\n",
        "print('Descriptions: train=%d' % len(train_class))\n",
        "\n",
        "class_dummy=load_class_dummy(SAVED+'flower_class.txt', train)\n",
        "\n",
        "#Image, text, label dictionary for EVAL\n",
        "filename = SAVED+'/val_image.txt'\n",
        "val=[]\n",
        "with open(filename, encoding='utf-8',mode='r') as f:\n",
        "    for line in f.read().splitlines():\n",
        "        val=val+[line.split(',')[0][:-4]]\n",
        "\n",
        "val_descriptions = load_clean_descriptions(SAVED+'flower_text_tagged_fa.txt', val)\n",
        "print('Descriptions: val=%d' % len(val_descriptions))\n",
        "\n",
        "with open(SAVED+\"eval_image_features.pkl\",\"rb\") as f:\n",
        "    val_features =pickle.load(f)\n",
        "\n",
        "print('Photos: val=%d' % len(val_features))\n",
        "\n",
        "val_class = load_clean_class(SAVED+'flower_class.txt', val)\n",
        "print('Descriptions: val=%d' % len(val_class))\n",
        "val_class_dummy=load_class_dummy(SAVED+'flower_class.txt', val)\n",
        "\n",
        "\n",
        "#Image, text, label dictionary for Test \n",
        "filename = SAVED+'/test_image.txt'\n",
        "test=[]\n",
        "with open(file=filename, encoding='utf-8',mode='r') as f:\n",
        "    for line in f.read().splitlines():\n",
        "        test=test+[line.split(',')[0][:-4]]\n",
        "\n",
        "\n",
        "test_descriptions = load_clean_descriptions(SAVED+'flower_text_tagged_fa.txt', test)\n",
        "print('Descriptions: test=%d' % len(test_descriptions))\n",
        "\n",
        "with open(SAVED+\"test_image_features.pkl\",\"rb\") as f:\n",
        "    test_features =pickle.load(f)\n",
        "\n",
        "print('Photos: test=%d' % len(test_features))\n",
        "\n",
        "test_class = load_clean_class(SAVED+'flower_class.txt', test)\n",
        "print('Descriptions: test=%d' % len(test_class))\n",
        "test_class_dummy=load_class_dummy(SAVED+'flower_class.txt', test)"
      ]
    },
    {
      "cell_type": "code",
      "execution_count": 7,
      "metadata": {
        "colab": {
          "base_uri": "https://localhost:8080/"
        },
        "id": "7nkF23izSeKA",
        "outputId": "455d718c-19ab-4429-e850-f989b1f613f6"
      },
      "outputs": [],
      "source": [
        "# Load data\n",
        "\n",
        "punctuations = '''!()-[]{};:'\"\\,<>./?@#$%^&*؟%؛،ًًًََُّ»«_~'''\n",
        "def punc(myStr):\n",
        "  no_punct = \"\"\n",
        "  for char in myStr:\n",
        "    if char not in punctuations:\n",
        "        no_punct = no_punct + char\n",
        "  return no_punct\n",
        "\n",
        "# Load morpheme dictionary for flowers\n",
        "\n",
        "dictionary2=Dictionary.load(SAVED+\"dictionary/flower_dictionary2_fa_lemAndStem\")\n",
        "#flower_dictionary2_fa_lemOnlyWithStopWord\n",
        "#flower_dictionary2_fa_lemAndStemWithStopWords\n",
        "#flower_dictionary2_fa_lemAndStem\n",
        "embedding_path = SAVED + 'skipgram/skigram1_fa_new_200_lemStem.txt'\n",
        "EMBEDDING_DIM=200\n",
        "#1 skigram1_fa_new_300_lemStem\n",
        "#2 skigram1_fa_new_200_lemStem\n",
        "#3 skigram1_fa_new_100_lemStem\n",
        "#4 skigram1_fa_new_300_lemOnlyWithStopWords\n",
        "\n",
        "\n",
        "MAX_SEQUENCE_LENGTH=300\n",
        "c=str()\n",
        "\n",
        "normalizer = Normalizer(correct_spacing=True)\n",
        "lemmatizer = Lemmatizer(joined_verb_parts=False)\n",
        "tagger = POSTagger(model=SAVED+'pos_tagger.model')\n",
        "stop_words = stopwords_list()\n",
        "my_stemmer = FindStems()\n",
        "\n",
        "def create_phrase(train_features, train_descriptions, class_dummy,MAX_SEQUENCE_LENGTH):\n",
        "\n",
        "    X_image, X_text, y_class = list(), list(), list()\n",
        "    #tweet=Okt()\n",
        "\n",
        "    for key, desc_list in train_descriptions.items():\n",
        "        c=list()\n",
        "        for desc in desc_list:\n",
        "\n",
        "            seq = punc(desc)\n",
        "            normalized_text = normalizer.normalize(seq)\n",
        "            tokens = word_tokenize(normalized_text)\n",
        "\n",
        "            newTokens = []\n",
        "\n",
        "            tokenAndTag = tagger.tag(tokens)\n",
        "            newTokenAndTag = []\n",
        "            for TAT in tokenAndTag:\n",
        "              newTokenAndTag.append([TAT[0], TAT[1].replace('PRON', 'PRO').replace('ADJ', 'AJ').replace('VERB', 'V').split(',')[0]])\n",
        "            tokenAndTag = newTokenAndTag\n",
        "\n",
        "            j = 0\n",
        "            for token in tokens :\n",
        "              for lemToken in lemmatizer.lemmatize(word=token, pos=tokenAndTag[j][1]).split('#') :\n",
        "                  if lemToken != '' :#if lemToken not in stop_words and lemToken != ''  :\n",
        "                    newTokens.append(lemToken)\n",
        "              for stemToken in my_stemmer.convert_to_stem(token).split('&') :\n",
        "                  if  stemToken != ''  :#if stemToken not in stop_words and stemToken != ''  :\n",
        "                    newTokens.append(stemToken)\n",
        "              j += 1\n",
        "            tokens = newTokens\n",
        "            tokens = [token for token in tokens if token != '']\n",
        "\n",
        "            b = tagger.tag(tokens)\n",
        "\n",
        "            aaa=[]\n",
        "            for y in b:\n",
        "                aaa.append(y[0])\n",
        "\n",
        "            c+=aaa\n",
        "        d=dictionary2.doc2idx(c)\n",
        "        X_text.append(np.array(d))\n",
        "        if key in class_dummy:\n",
        "            y_class.append(np.array(class_dummy[key][0]))\n",
        "        X_image.append(train_features[key][0])\n",
        "\n",
        "    X_text=pad_sequences(X_text, maxlen=MAX_SEQUENCE_LENGTH)\n",
        "    return np.array(X_text),np.array(X_image),np.array(y_class)"
      ]
    },
    {
      "cell_type": "code",
      "execution_count": 8,
      "metadata": {
        "colab": {
          "base_uri": "https://localhost:8080/"
        },
        "id": "Q-qYZLnwm2Tr",
        "outputId": "085f1922-77d9-498b-9263-eefe56ce0452"
      },
      "outputs": [],
      "source": [
        "#Import images and text into training, validation, and test sets\n",
        "X_text, X_image, y_class =create_phrase(train_features, train_descriptions, class_dummy,MAX_SEQUENCE_LENGTH)\n",
        "X_text_val, X_image_val, y_class_val =create_phrase(val_features, val_descriptions, val_class_dummy,MAX_SEQUENCE_LENGTH)\n",
        "X_text_test, X_image_test, y_class_test =create_phrase(test_features, test_descriptions, test_class_dummy,MAX_SEQUENCE_LENGTH)\n"
      ]
    },
    {
      "cell_type": "code",
      "execution_count": 9,
      "metadata": {
        "colab": {
          "base_uri": "https://localhost:8080/"
        },
        "id": "kFrtLZ0sm8pc",
        "outputId": "44bbedc4-0ca3-42bd-8d83-fb1fb0e60664"
      },
      "outputs": [
        {
          "name": "stdout",
          "output_type": "stream",
          "text": [
            "Found 4009 word vectors.\n"
          ]
        }
      ],
      "source": [
        "# Load pre-trained embedding matrix\n",
        "word_index=dictionary2.token2id #{'개': 0, '겨울': 1, '과': 2, '과도': 3, '그것': 4, '기': 5, '깊다': 6, '꽃축': 7,\n",
        "                                #'سگ': 0، 'زمستان': 1، 'میوه': 2، 'انتقال': 3، 'آن': 4، 'ki': 5، 'عمیق': 6، 'محور گل': 7،\n",
        "\n",
        "\n",
        "embeddings_index = dict()\n",
        "f = open(file = embedding_path, encoding= \"utf-8\")\n",
        "for line in f:\n",
        "    values = line.split()\n",
        "    word = values[0]\n",
        "    coefs = np.asarray(values[1:], dtype='float32')\n",
        "    embeddings_index[word] = coefs\n",
        "f.close()\n",
        "print('Found %s word vectors.' % len(embeddings_index))\n",
        "\n",
        "embedding_matrix = np.zeros((len(word_index) + 1, EMBEDDING_DIM))\n",
        "for word, i in word_index.items():\n",
        "    embedding_vector = embeddings_index.get(word)\n",
        "    if embedding_vector is not None:\n",
        "        # words not found in embedding index will be all-zeros.\n",
        "        embedding_matrix[i] = embedding_vector\n"
      ]
    },
    {
      "cell_type": "code",
      "execution_count": 10,
      "metadata": {
        "colab": {
          "base_uri": "https://localhost:8080/"
        },
        "id": "OgaVS570nEaQ",
        "outputId": "779dd831-fd1d-4ead-f1da-50fb397062d2"
      },
      "outputs": [],
      "source": [
        "# Model definition\n",
        "\n",
        "def Modified_m_CNN(DROP_OUT,DROP_OUT2,LAMBDA):\n",
        "\tinputs1 = Input(shape=(4096,))\n",
        "\tx= Reshape((16,1,256))(inputs1)\n",
        "\tx=BatchNormalization()(x)\n",
        "\tconv_x=Conv2D(256, kernel_size=(14,1), padding='valid', kernel_initializer='he_normal', activation='relu')(x)\n",
        "\n",
        "\tconv_x = Dropout(DROP_OUT2)(conv_x)\n",
        "\tMax_x = MaxPool2D(pool_size=(2,1))(conv_x)\n",
        "\tinputs2 = Input(shape=(MAX_SEQUENCE_LENGTH,))\n",
        "\ty = Embedding(len(word_index) + 1,\n",
        "                            EMBEDDING_DIM,\n",
        "                            weights=[embedding_matrix],\n",
        "                            input_length=MAX_SEQUENCE_LENGTH,\n",
        "                            trainable=True) (inputs2)\n",
        "\treshape = Reshape((MAX_SEQUENCE_LENGTH,EMBEDDING_DIM,1))(y)\n",
        "\tconv_0 = Conv2D(num_filters, kernel_size=(filter_sizes[0], EMBEDDING_DIM), padding='valid', kernel_initializer='he_normal', activation='relu')(reshape)\n",
        "\tconv_0=BatchNormalization()(conv_0)\n",
        "\tconv_0 = Dropout(DROP_OUT2)(conv_0)\n",
        "\tconv_1 = Conv2D(num_filters, kernel_size=(filter_sizes[1], EMBEDDING_DIM), padding='valid', kernel_initializer='he_normal', activation='relu')(reshape)\n",
        "\tconv_1 =BatchNormalization()(conv_1 )\n",
        "\tconv_1 = Dropout(DROP_OUT2)(conv_1)\n",
        "\tconv_2 = Conv2D(num_filters, kernel_size=(filter_sizes[2], EMBEDDING_DIM), padding='valid', kernel_initializer='he_normal', activation='relu')(reshape)\n",
        "\tconv_2 =BatchNormalization()(conv_2 )\n",
        "\tconv_2 = Dropout(DROP_OUT2)(conv_2)\n",
        "\tmaxpool_0 = MaxPool2D(pool_size=(MAX_SEQUENCE_LENGTH - filter_sizes[0] + 1, 1), strides=(1,1), padding='valid')(conv_0)\n",
        "\tmaxpool_1 = MaxPool2D(pool_size=(MAX_SEQUENCE_LENGTH - filter_sizes[1] + 1, 1), strides=(1,1), padding='valid')(conv_1)\n",
        "\tmaxpool_2 = MaxPool2D(pool_size=(MAX_SEQUENCE_LENGTH - filter_sizes[2] + 1, 1), strides=(1,1), padding='valid')(conv_2)\n",
        "\tconcat1 = Concatenate(axis=1)([maxpool_0,Max_x])\n",
        "\tconcat2 = Concatenate(axis=1)([maxpool_1,Max_x])\n",
        "\tconcat3 = Concatenate(axis=1)([maxpool_2,Max_x])\n",
        "\tconcat4 = Concatenate(axis=1)([concat1, concat2 ,concat3 ])\n",
        "\ta=Conv2D(512, kernel_size=(5,1), padding='valid', kernel_initializer='he_normal', activation='relu')(concat4)\n",
        "\ta=BatchNormalization()(a)\n",
        "\ta=Dropout(DROP_OUT2)(a)\n",
        "\ta=MaxPool2D(pool_size=(2,1))(a)\n",
        "\ta = Flatten()(a)\n",
        "\tz = Dropout(DROP_OUT)(a)\n",
        "\toutput = Dense(units=102, activation='softmax',kernel_regularizer=regularizers.l2(LAMBDA), kernel_initializer='he_normal')(z)\n",
        "\tmodel = Model(inputs=[inputs1, inputs2], outputs=output)\n",
        "\t#print(model.summary())\n",
        "\treturn model"
      ]
    },
    {
      "cell_type": "code",
      "execution_count": 11,
      "metadata": {
        "colab": {
          "base_uri": "https://localhost:8080/"
        },
        "id": "d1CrQLu3nKs8",
        "outputId": "f16f070d-989c-47d1-b339-455818540e09"
      },
      "outputs": [
        {
          "name": "stdout",
          "output_type": "stream",
          "text": [
            "Iteration 1\n"
          ]
        },
        {
          "name": "stderr",
          "output_type": "stream",
          "text": [
            "d:\\Program Files\\Python\\Python311\\Lib\\site-packages\\keras\\src\\layers\\core\\embedding.py:90: UserWarning: Argument `input_length` is deprecated. Just remove it.\n",
            "  warnings.warn(\n"
          ]
        },
        {
          "name": "stdout",
          "output_type": "stream",
          "text": [
            "Epoch 1/40\n",
            "\u001b[1m41/41\u001b[0m \u001b[32m━━━━━━━━━━━━━━━━━━━━\u001b[0m\u001b[37m\u001b[0m \u001b[1m804s\u001b[0m 19s/step - accuracy: 0.0693 - loss: 13.9962 - val_accuracy: 0.1206 - val_loss: 9.3242\n",
            "Epoch 2/40\n",
            "\u001b[1m41/41\u001b[0m \u001b[32m━━━━━━━━━━━━━━━━━━━━\u001b[0m\u001b[37m\u001b[0m \u001b[1m893s\u001b[0m 22s/step - accuracy: 0.4155 - loss: 7.0941 - val_accuracy: 0.3359 - val_loss: 6.3626\n",
            "Epoch 3/40\n",
            "\u001b[1m41/41\u001b[0m \u001b[32m━━━━━━━━━━━━━━━━━━━━\u001b[0m\u001b[37m\u001b[0m \u001b[1m895s\u001b[0m 22s/step - accuracy: 0.6307 - loss: 4.1313 - val_accuracy: 0.4489 - val_loss: 5.0641\n",
            "Epoch 4/40\n",
            "\u001b[1m41/41\u001b[0m \u001b[32m━━━━━━━━━━━━━━━━━━━━\u001b[0m\u001b[37m\u001b[0m \u001b[1m829s\u001b[0m 20s/step - accuracy: 0.7645 - loss: 2.7376 - val_accuracy: 0.5137 - val_loss: 4.3970\n",
            "Epoch 5/40\n",
            "\u001b[1m41/41\u001b[0m \u001b[32m━━━━━━━━━━━━━━━━━━━━\u001b[0m\u001b[37m\u001b[0m \u001b[1m890s\u001b[0m 22s/step - accuracy: 0.8406 - loss: 2.0318 - val_accuracy: 0.5092 - val_loss: 4.0370\n",
            "Epoch 6/40\n",
            "\u001b[1m41/41\u001b[0m \u001b[32m━━━━━━━━━━━━━━━━━━━━\u001b[0m\u001b[37m\u001b[0m \u001b[1m799s\u001b[0m 19s/step - accuracy: 0.8750 - loss: 1.6424 - val_accuracy: 0.5679 - val_loss: 3.7775\n",
            "Epoch 7/40\n",
            "\u001b[1m 4/41\u001b[0m \u001b[32m━\u001b[0m\u001b[37m━━━━━━━━━━━━━━━━━━━\u001b[0m \u001b[1m11:47\u001b[0m 19s/step - accuracy: 0.8859 - loss: 1.4861"
          ]
        },
        {
          "ename": "KeyboardInterrupt",
          "evalue": "",
          "output_type": "error",
          "traceback": [
            "\u001b[1;31m---------------------------------------------------------------------------\u001b[0m",
            "\u001b[1;31mKeyboardInterrupt\u001b[0m                         Traceback (most recent call last)",
            "Cell \u001b[1;32mIn[11], line 27\u001b[0m\n\u001b[0;32m     24\u001b[0m model\u001b[38;5;241m.\u001b[39mcompile(loss\u001b[38;5;241m=\u001b[39m\u001b[38;5;124m'\u001b[39m\u001b[38;5;124mcategorical_crossentropy\u001b[39m\u001b[38;5;124m'\u001b[39m, optimizer\u001b[38;5;241m=\u001b[39m\u001b[38;5;124m'\u001b[39m\u001b[38;5;124mAdam\u001b[39m\u001b[38;5;124m'\u001b[39m, metrics\u001b[38;5;241m=\u001b[39m[\u001b[38;5;124m'\u001b[39m\u001b[38;5;124maccuracy\u001b[39m\u001b[38;5;124m'\u001b[39m])\n\u001b[0;32m     26\u001b[0m \u001b[38;5;66;03m# Fit the model\u001b[39;00m\n\u001b[1;32m---> 27\u001b[0m \u001b[43mmodel\u001b[49m\u001b[38;5;241;43m.\u001b[39;49m\u001b[43mfit\u001b[49m\u001b[43m(\u001b[49m\u001b[43m[\u001b[49m\u001b[43mX_image\u001b[49m\u001b[43m,\u001b[49m\u001b[43m \u001b[49m\u001b[43mX_text\u001b[49m\u001b[43m]\u001b[49m\u001b[43m,\u001b[49m\u001b[43m \u001b[49m\u001b[43my_class\u001b[49m\u001b[43m,\u001b[49m\u001b[43m \u001b[49m\u001b[43mepochs\u001b[49m\u001b[38;5;241;43m=\u001b[39;49m\u001b[43mEPOCHS\u001b[49m\u001b[43m,\u001b[49m\n\u001b[0;32m     28\u001b[0m \u001b[43m                    \u001b[49m\u001b[43mbatch_size\u001b[49m\u001b[38;5;241;43m=\u001b[39;49m\u001b[43mBATCH_SIZE\u001b[49m\u001b[43m,\u001b[49m\u001b[43m \u001b[49m\u001b[43mvalidation_data\u001b[49m\u001b[38;5;241;43m=\u001b[39;49m\u001b[43m(\u001b[49m\u001b[43m[\u001b[49m\u001b[43mX_image_val\u001b[49m\u001b[43m,\u001b[49m\u001b[43m \u001b[49m\u001b[43mX_text_val\u001b[49m\u001b[43m]\u001b[49m\u001b[43m,\u001b[49m\u001b[43m \u001b[49m\u001b[43my_class_val\u001b[49m\u001b[43m)\u001b[49m\u001b[43m,\u001b[49m\u001b[43m \u001b[49m\u001b[43mshuffle\u001b[49m\u001b[38;5;241;43m=\u001b[39;49m\u001b[38;5;28;43;01mTrue\u001b[39;49;00m\u001b[43m)\u001b[49m\n\u001b[0;32m     30\u001b[0m \u001b[38;5;66;03m# Evaluate the model\u001b[39;00m\n\u001b[0;32m     31\u001b[0m score \u001b[38;5;241m=\u001b[39m model\u001b[38;5;241m.\u001b[39mevaluate([X_image_test, X_text_test], y_class_test, verbose\u001b[38;5;241m=\u001b[39m\u001b[38;5;241m1\u001b[39m)\n",
            "File \u001b[1;32md:\\Program Files\\Python\\Python311\\Lib\\site-packages\\keras\\src\\utils\\traceback_utils.py:117\u001b[0m, in \u001b[0;36mfilter_traceback.<locals>.error_handler\u001b[1;34m(*args, **kwargs)\u001b[0m\n\u001b[0;32m    115\u001b[0m filtered_tb \u001b[38;5;241m=\u001b[39m \u001b[38;5;28;01mNone\u001b[39;00m\n\u001b[0;32m    116\u001b[0m \u001b[38;5;28;01mtry\u001b[39;00m:\n\u001b[1;32m--> 117\u001b[0m     \u001b[38;5;28;01mreturn\u001b[39;00m \u001b[43mfn\u001b[49m\u001b[43m(\u001b[49m\u001b[38;5;241;43m*\u001b[39;49m\u001b[43margs\u001b[49m\u001b[43m,\u001b[49m\u001b[43m \u001b[49m\u001b[38;5;241;43m*\u001b[39;49m\u001b[38;5;241;43m*\u001b[39;49m\u001b[43mkwargs\u001b[49m\u001b[43m)\u001b[49m\n\u001b[0;32m    118\u001b[0m \u001b[38;5;28;01mexcept\u001b[39;00m \u001b[38;5;167;01mException\u001b[39;00m \u001b[38;5;28;01mas\u001b[39;00m e:\n\u001b[0;32m    119\u001b[0m     filtered_tb \u001b[38;5;241m=\u001b[39m _process_traceback_frames(e\u001b[38;5;241m.\u001b[39m__traceback__)\n",
            "File \u001b[1;32md:\\Program Files\\Python\\Python311\\Lib\\site-packages\\keras\\src\\backend\\tensorflow\\trainer.py:314\u001b[0m, in \u001b[0;36mTensorFlowTrainer.fit\u001b[1;34m(self, x, y, batch_size, epochs, verbose, callbacks, validation_split, validation_data, shuffle, class_weight, sample_weight, initial_epoch, steps_per_epoch, validation_steps, validation_batch_size, validation_freq)\u001b[0m\n\u001b[0;32m    312\u001b[0m \u001b[38;5;28;01mfor\u001b[39;00m step, iterator \u001b[38;5;129;01min\u001b[39;00m epoch_iterator\u001b[38;5;241m.\u001b[39menumerate_epoch():\n\u001b[0;32m    313\u001b[0m     callbacks\u001b[38;5;241m.\u001b[39mon_train_batch_begin(step)\n\u001b[1;32m--> 314\u001b[0m     logs \u001b[38;5;241m=\u001b[39m \u001b[38;5;28;43mself\u001b[39;49m\u001b[38;5;241;43m.\u001b[39;49m\u001b[43mtrain_function\u001b[49m\u001b[43m(\u001b[49m\u001b[43miterator\u001b[49m\u001b[43m)\u001b[49m\n\u001b[0;32m    315\u001b[0m     logs \u001b[38;5;241m=\u001b[39m \u001b[38;5;28mself\u001b[39m\u001b[38;5;241m.\u001b[39m_pythonify_logs(logs)\n\u001b[0;32m    316\u001b[0m     callbacks\u001b[38;5;241m.\u001b[39mon_train_batch_end(step, logs)\n",
            "File \u001b[1;32md:\\Program Files\\Python\\Python311\\Lib\\site-packages\\tensorflow\\python\\util\\traceback_utils.py:150\u001b[0m, in \u001b[0;36mfilter_traceback.<locals>.error_handler\u001b[1;34m(*args, **kwargs)\u001b[0m\n\u001b[0;32m    148\u001b[0m filtered_tb \u001b[38;5;241m=\u001b[39m \u001b[38;5;28;01mNone\u001b[39;00m\n\u001b[0;32m    149\u001b[0m \u001b[38;5;28;01mtry\u001b[39;00m:\n\u001b[1;32m--> 150\u001b[0m   \u001b[38;5;28;01mreturn\u001b[39;00m \u001b[43mfn\u001b[49m\u001b[43m(\u001b[49m\u001b[38;5;241;43m*\u001b[39;49m\u001b[43margs\u001b[49m\u001b[43m,\u001b[49m\u001b[43m \u001b[49m\u001b[38;5;241;43m*\u001b[39;49m\u001b[38;5;241;43m*\u001b[39;49m\u001b[43mkwargs\u001b[49m\u001b[43m)\u001b[49m\n\u001b[0;32m    151\u001b[0m \u001b[38;5;28;01mexcept\u001b[39;00m \u001b[38;5;167;01mException\u001b[39;00m \u001b[38;5;28;01mas\u001b[39;00m e:\n\u001b[0;32m    152\u001b[0m   filtered_tb \u001b[38;5;241m=\u001b[39m _process_traceback_frames(e\u001b[38;5;241m.\u001b[39m__traceback__)\n",
            "File \u001b[1;32md:\\Program Files\\Python\\Python311\\Lib\\site-packages\\tensorflow\\python\\eager\\polymorphic_function\\polymorphic_function.py:833\u001b[0m, in \u001b[0;36mFunction.__call__\u001b[1;34m(self, *args, **kwds)\u001b[0m\n\u001b[0;32m    830\u001b[0m compiler \u001b[38;5;241m=\u001b[39m \u001b[38;5;124m\"\u001b[39m\u001b[38;5;124mxla\u001b[39m\u001b[38;5;124m\"\u001b[39m \u001b[38;5;28;01mif\u001b[39;00m \u001b[38;5;28mself\u001b[39m\u001b[38;5;241m.\u001b[39m_jit_compile \u001b[38;5;28;01melse\u001b[39;00m \u001b[38;5;124m\"\u001b[39m\u001b[38;5;124mnonXla\u001b[39m\u001b[38;5;124m\"\u001b[39m\n\u001b[0;32m    832\u001b[0m \u001b[38;5;28;01mwith\u001b[39;00m OptionalXlaContext(\u001b[38;5;28mself\u001b[39m\u001b[38;5;241m.\u001b[39m_jit_compile):\n\u001b[1;32m--> 833\u001b[0m   result \u001b[38;5;241m=\u001b[39m \u001b[38;5;28;43mself\u001b[39;49m\u001b[38;5;241;43m.\u001b[39;49m\u001b[43m_call\u001b[49m\u001b[43m(\u001b[49m\u001b[38;5;241;43m*\u001b[39;49m\u001b[43margs\u001b[49m\u001b[43m,\u001b[49m\u001b[43m \u001b[49m\u001b[38;5;241;43m*\u001b[39;49m\u001b[38;5;241;43m*\u001b[39;49m\u001b[43mkwds\u001b[49m\u001b[43m)\u001b[49m\n\u001b[0;32m    835\u001b[0m new_tracing_count \u001b[38;5;241m=\u001b[39m \u001b[38;5;28mself\u001b[39m\u001b[38;5;241m.\u001b[39mexperimental_get_tracing_count()\n\u001b[0;32m    836\u001b[0m without_tracing \u001b[38;5;241m=\u001b[39m (tracing_count \u001b[38;5;241m==\u001b[39m new_tracing_count)\n",
            "File \u001b[1;32md:\\Program Files\\Python\\Python311\\Lib\\site-packages\\tensorflow\\python\\eager\\polymorphic_function\\polymorphic_function.py:878\u001b[0m, in \u001b[0;36mFunction._call\u001b[1;34m(self, *args, **kwds)\u001b[0m\n\u001b[0;32m    875\u001b[0m \u001b[38;5;28mself\u001b[39m\u001b[38;5;241m.\u001b[39m_lock\u001b[38;5;241m.\u001b[39mrelease()\n\u001b[0;32m    876\u001b[0m \u001b[38;5;66;03m# In this case we have not created variables on the first call. So we can\u001b[39;00m\n\u001b[0;32m    877\u001b[0m \u001b[38;5;66;03m# run the first trace but we should fail if variables are created.\u001b[39;00m\n\u001b[1;32m--> 878\u001b[0m results \u001b[38;5;241m=\u001b[39m \u001b[43mtracing_compilation\u001b[49m\u001b[38;5;241;43m.\u001b[39;49m\u001b[43mcall_function\u001b[49m\u001b[43m(\u001b[49m\n\u001b[0;32m    879\u001b[0m \u001b[43m    \u001b[49m\u001b[43margs\u001b[49m\u001b[43m,\u001b[49m\u001b[43m \u001b[49m\u001b[43mkwds\u001b[49m\u001b[43m,\u001b[49m\u001b[43m \u001b[49m\u001b[38;5;28;43mself\u001b[39;49m\u001b[38;5;241;43m.\u001b[39;49m\u001b[43m_variable_creation_config\u001b[49m\n\u001b[0;32m    880\u001b[0m \u001b[43m\u001b[49m\u001b[43m)\u001b[49m\n\u001b[0;32m    881\u001b[0m \u001b[38;5;28;01mif\u001b[39;00m \u001b[38;5;28mself\u001b[39m\u001b[38;5;241m.\u001b[39m_created_variables:\n\u001b[0;32m    882\u001b[0m   \u001b[38;5;28;01mraise\u001b[39;00m \u001b[38;5;167;01mValueError\u001b[39;00m(\u001b[38;5;124m\"\u001b[39m\u001b[38;5;124mCreating variables on a non-first call to a function\u001b[39m\u001b[38;5;124m\"\u001b[39m\n\u001b[0;32m    883\u001b[0m                    \u001b[38;5;124m\"\u001b[39m\u001b[38;5;124m decorated with tf.function.\u001b[39m\u001b[38;5;124m\"\u001b[39m)\n",
            "File \u001b[1;32md:\\Program Files\\Python\\Python311\\Lib\\site-packages\\tensorflow\\python\\eager\\polymorphic_function\\tracing_compilation.py:139\u001b[0m, in \u001b[0;36mcall_function\u001b[1;34m(args, kwargs, tracing_options)\u001b[0m\n\u001b[0;32m    137\u001b[0m bound_args \u001b[38;5;241m=\u001b[39m function\u001b[38;5;241m.\u001b[39mfunction_type\u001b[38;5;241m.\u001b[39mbind(\u001b[38;5;241m*\u001b[39margs, \u001b[38;5;241m*\u001b[39m\u001b[38;5;241m*\u001b[39mkwargs)\n\u001b[0;32m    138\u001b[0m flat_inputs \u001b[38;5;241m=\u001b[39m function\u001b[38;5;241m.\u001b[39mfunction_type\u001b[38;5;241m.\u001b[39munpack_inputs(bound_args)\n\u001b[1;32m--> 139\u001b[0m \u001b[38;5;28;01mreturn\u001b[39;00m \u001b[43mfunction\u001b[49m\u001b[38;5;241;43m.\u001b[39;49m\u001b[43m_call_flat\u001b[49m\u001b[43m(\u001b[49m\u001b[43m  \u001b[49m\u001b[38;5;66;43;03m# pylint: disable=protected-access\u001b[39;49;00m\n\u001b[0;32m    140\u001b[0m \u001b[43m    \u001b[49m\u001b[43mflat_inputs\u001b[49m\u001b[43m,\u001b[49m\u001b[43m \u001b[49m\u001b[43mcaptured_inputs\u001b[49m\u001b[38;5;241;43m=\u001b[39;49m\u001b[43mfunction\u001b[49m\u001b[38;5;241;43m.\u001b[39;49m\u001b[43mcaptured_inputs\u001b[49m\n\u001b[0;32m    141\u001b[0m \u001b[43m\u001b[49m\u001b[43m)\u001b[49m\n",
            "File \u001b[1;32md:\\Program Files\\Python\\Python311\\Lib\\site-packages\\tensorflow\\python\\eager\\polymorphic_function\\concrete_function.py:1322\u001b[0m, in \u001b[0;36mConcreteFunction._call_flat\u001b[1;34m(self, tensor_inputs, captured_inputs)\u001b[0m\n\u001b[0;32m   1318\u001b[0m possible_gradient_type \u001b[38;5;241m=\u001b[39m gradients_util\u001b[38;5;241m.\u001b[39mPossibleTapeGradientTypes(args)\n\u001b[0;32m   1319\u001b[0m \u001b[38;5;28;01mif\u001b[39;00m (possible_gradient_type \u001b[38;5;241m==\u001b[39m gradients_util\u001b[38;5;241m.\u001b[39mPOSSIBLE_GRADIENT_TYPES_NONE\n\u001b[0;32m   1320\u001b[0m     \u001b[38;5;129;01mand\u001b[39;00m executing_eagerly):\n\u001b[0;32m   1321\u001b[0m   \u001b[38;5;66;03m# No tape is watching; skip to running the function.\u001b[39;00m\n\u001b[1;32m-> 1322\u001b[0m   \u001b[38;5;28;01mreturn\u001b[39;00m \u001b[38;5;28;43mself\u001b[39;49m\u001b[38;5;241;43m.\u001b[39;49m\u001b[43m_inference_function\u001b[49m\u001b[38;5;241;43m.\u001b[39;49m\u001b[43mcall_preflattened\u001b[49m\u001b[43m(\u001b[49m\u001b[43margs\u001b[49m\u001b[43m)\u001b[49m\n\u001b[0;32m   1323\u001b[0m forward_backward \u001b[38;5;241m=\u001b[39m \u001b[38;5;28mself\u001b[39m\u001b[38;5;241m.\u001b[39m_select_forward_and_backward_functions(\n\u001b[0;32m   1324\u001b[0m     args,\n\u001b[0;32m   1325\u001b[0m     possible_gradient_type,\n\u001b[0;32m   1326\u001b[0m     executing_eagerly)\n\u001b[0;32m   1327\u001b[0m forward_function, args_with_tangents \u001b[38;5;241m=\u001b[39m forward_backward\u001b[38;5;241m.\u001b[39mforward()\n",
            "File \u001b[1;32md:\\Program Files\\Python\\Python311\\Lib\\site-packages\\tensorflow\\python\\eager\\polymorphic_function\\atomic_function.py:216\u001b[0m, in \u001b[0;36mAtomicFunction.call_preflattened\u001b[1;34m(self, args)\u001b[0m\n\u001b[0;32m    214\u001b[0m \u001b[38;5;28;01mdef\u001b[39;00m \u001b[38;5;21mcall_preflattened\u001b[39m(\u001b[38;5;28mself\u001b[39m, args: Sequence[core\u001b[38;5;241m.\u001b[39mTensor]) \u001b[38;5;241m-\u001b[39m\u001b[38;5;241m>\u001b[39m Any:\n\u001b[0;32m    215\u001b[0m \u001b[38;5;250m  \u001b[39m\u001b[38;5;124;03m\"\"\"Calls with flattened tensor inputs and returns the structured output.\"\"\"\u001b[39;00m\n\u001b[1;32m--> 216\u001b[0m   flat_outputs \u001b[38;5;241m=\u001b[39m \u001b[38;5;28;43mself\u001b[39;49m\u001b[38;5;241;43m.\u001b[39;49m\u001b[43mcall_flat\u001b[49m\u001b[43m(\u001b[49m\u001b[38;5;241;43m*\u001b[39;49m\u001b[43margs\u001b[49m\u001b[43m)\u001b[49m\n\u001b[0;32m    217\u001b[0m   \u001b[38;5;28;01mreturn\u001b[39;00m \u001b[38;5;28mself\u001b[39m\u001b[38;5;241m.\u001b[39mfunction_type\u001b[38;5;241m.\u001b[39mpack_output(flat_outputs)\n",
            "File \u001b[1;32md:\\Program Files\\Python\\Python311\\Lib\\site-packages\\tensorflow\\python\\eager\\polymorphic_function\\atomic_function.py:251\u001b[0m, in \u001b[0;36mAtomicFunction.call_flat\u001b[1;34m(self, *args)\u001b[0m\n\u001b[0;32m    249\u001b[0m \u001b[38;5;28;01mwith\u001b[39;00m record\u001b[38;5;241m.\u001b[39mstop_recording():\n\u001b[0;32m    250\u001b[0m   \u001b[38;5;28;01mif\u001b[39;00m \u001b[38;5;28mself\u001b[39m\u001b[38;5;241m.\u001b[39m_bound_context\u001b[38;5;241m.\u001b[39mexecuting_eagerly():\n\u001b[1;32m--> 251\u001b[0m     outputs \u001b[38;5;241m=\u001b[39m \u001b[38;5;28;43mself\u001b[39;49m\u001b[38;5;241;43m.\u001b[39;49m\u001b[43m_bound_context\u001b[49m\u001b[38;5;241;43m.\u001b[39;49m\u001b[43mcall_function\u001b[49m\u001b[43m(\u001b[49m\n\u001b[0;32m    252\u001b[0m \u001b[43m        \u001b[49m\u001b[38;5;28;43mself\u001b[39;49m\u001b[38;5;241;43m.\u001b[39;49m\u001b[43mname\u001b[49m\u001b[43m,\u001b[49m\n\u001b[0;32m    253\u001b[0m \u001b[43m        \u001b[49m\u001b[38;5;28;43mlist\u001b[39;49m\u001b[43m(\u001b[49m\u001b[43margs\u001b[49m\u001b[43m)\u001b[49m\u001b[43m,\u001b[49m\n\u001b[0;32m    254\u001b[0m \u001b[43m        \u001b[49m\u001b[38;5;28;43mlen\u001b[39;49m\u001b[43m(\u001b[49m\u001b[38;5;28;43mself\u001b[39;49m\u001b[38;5;241;43m.\u001b[39;49m\u001b[43mfunction_type\u001b[49m\u001b[38;5;241;43m.\u001b[39;49m\u001b[43mflat_outputs\u001b[49m\u001b[43m)\u001b[49m\u001b[43m,\u001b[49m\n\u001b[0;32m    255\u001b[0m \u001b[43m    \u001b[49m\u001b[43m)\u001b[49m\n\u001b[0;32m    256\u001b[0m   \u001b[38;5;28;01melse\u001b[39;00m:\n\u001b[0;32m    257\u001b[0m     outputs \u001b[38;5;241m=\u001b[39m make_call_op_in_graph(\n\u001b[0;32m    258\u001b[0m         \u001b[38;5;28mself\u001b[39m,\n\u001b[0;32m    259\u001b[0m         \u001b[38;5;28mlist\u001b[39m(args),\n\u001b[0;32m    260\u001b[0m         \u001b[38;5;28mself\u001b[39m\u001b[38;5;241m.\u001b[39m_bound_context\u001b[38;5;241m.\u001b[39mfunction_call_options\u001b[38;5;241m.\u001b[39mas_attrs(),\n\u001b[0;32m    261\u001b[0m     )\n",
            "File \u001b[1;32md:\\Program Files\\Python\\Python311\\Lib\\site-packages\\tensorflow\\python\\eager\\context.py:1500\u001b[0m, in \u001b[0;36mContext.call_function\u001b[1;34m(self, name, tensor_inputs, num_outputs)\u001b[0m\n\u001b[0;32m   1498\u001b[0m cancellation_context \u001b[38;5;241m=\u001b[39m cancellation\u001b[38;5;241m.\u001b[39mcontext()\n\u001b[0;32m   1499\u001b[0m \u001b[38;5;28;01mif\u001b[39;00m cancellation_context \u001b[38;5;129;01mis\u001b[39;00m \u001b[38;5;28;01mNone\u001b[39;00m:\n\u001b[1;32m-> 1500\u001b[0m   outputs \u001b[38;5;241m=\u001b[39m \u001b[43mexecute\u001b[49m\u001b[38;5;241;43m.\u001b[39;49m\u001b[43mexecute\u001b[49m\u001b[43m(\u001b[49m\n\u001b[0;32m   1501\u001b[0m \u001b[43m      \u001b[49m\u001b[43mname\u001b[49m\u001b[38;5;241;43m.\u001b[39;49m\u001b[43mdecode\u001b[49m\u001b[43m(\u001b[49m\u001b[38;5;124;43m\"\u001b[39;49m\u001b[38;5;124;43mutf-8\u001b[39;49m\u001b[38;5;124;43m\"\u001b[39;49m\u001b[43m)\u001b[49m\u001b[43m,\u001b[49m\n\u001b[0;32m   1502\u001b[0m \u001b[43m      \u001b[49m\u001b[43mnum_outputs\u001b[49m\u001b[38;5;241;43m=\u001b[39;49m\u001b[43mnum_outputs\u001b[49m\u001b[43m,\u001b[49m\n\u001b[0;32m   1503\u001b[0m \u001b[43m      \u001b[49m\u001b[43minputs\u001b[49m\u001b[38;5;241;43m=\u001b[39;49m\u001b[43mtensor_inputs\u001b[49m\u001b[43m,\u001b[49m\n\u001b[0;32m   1504\u001b[0m \u001b[43m      \u001b[49m\u001b[43mattrs\u001b[49m\u001b[38;5;241;43m=\u001b[39;49m\u001b[43mattrs\u001b[49m\u001b[43m,\u001b[49m\n\u001b[0;32m   1505\u001b[0m \u001b[43m      \u001b[49m\u001b[43mctx\u001b[49m\u001b[38;5;241;43m=\u001b[39;49m\u001b[38;5;28;43mself\u001b[39;49m\u001b[43m,\u001b[49m\n\u001b[0;32m   1506\u001b[0m \u001b[43m  \u001b[49m\u001b[43m)\u001b[49m\n\u001b[0;32m   1507\u001b[0m \u001b[38;5;28;01melse\u001b[39;00m:\n\u001b[0;32m   1508\u001b[0m   outputs \u001b[38;5;241m=\u001b[39m execute\u001b[38;5;241m.\u001b[39mexecute_with_cancellation(\n\u001b[0;32m   1509\u001b[0m       name\u001b[38;5;241m.\u001b[39mdecode(\u001b[38;5;124m\"\u001b[39m\u001b[38;5;124mutf-8\u001b[39m\u001b[38;5;124m\"\u001b[39m),\n\u001b[0;32m   1510\u001b[0m       num_outputs\u001b[38;5;241m=\u001b[39mnum_outputs,\n\u001b[1;32m   (...)\u001b[0m\n\u001b[0;32m   1514\u001b[0m       cancellation_manager\u001b[38;5;241m=\u001b[39mcancellation_context,\n\u001b[0;32m   1515\u001b[0m   )\n",
            "File \u001b[1;32md:\\Program Files\\Python\\Python311\\Lib\\site-packages\\tensorflow\\python\\eager\\execute.py:53\u001b[0m, in \u001b[0;36mquick_execute\u001b[1;34m(op_name, num_outputs, inputs, attrs, ctx, name)\u001b[0m\n\u001b[0;32m     51\u001b[0m \u001b[38;5;28;01mtry\u001b[39;00m:\n\u001b[0;32m     52\u001b[0m   ctx\u001b[38;5;241m.\u001b[39mensure_initialized()\n\u001b[1;32m---> 53\u001b[0m   tensors \u001b[38;5;241m=\u001b[39m \u001b[43mpywrap_tfe\u001b[49m\u001b[38;5;241;43m.\u001b[39;49m\u001b[43mTFE_Py_Execute\u001b[49m\u001b[43m(\u001b[49m\u001b[43mctx\u001b[49m\u001b[38;5;241;43m.\u001b[39;49m\u001b[43m_handle\u001b[49m\u001b[43m,\u001b[49m\u001b[43m \u001b[49m\u001b[43mdevice_name\u001b[49m\u001b[43m,\u001b[49m\u001b[43m \u001b[49m\u001b[43mop_name\u001b[49m\u001b[43m,\u001b[49m\n\u001b[0;32m     54\u001b[0m \u001b[43m                                      \u001b[49m\u001b[43minputs\u001b[49m\u001b[43m,\u001b[49m\u001b[43m \u001b[49m\u001b[43mattrs\u001b[49m\u001b[43m,\u001b[49m\u001b[43m \u001b[49m\u001b[43mnum_outputs\u001b[49m\u001b[43m)\u001b[49m\n\u001b[0;32m     55\u001b[0m \u001b[38;5;28;01mexcept\u001b[39;00m core\u001b[38;5;241m.\u001b[39m_NotOkStatusException \u001b[38;5;28;01mas\u001b[39;00m e:\n\u001b[0;32m     56\u001b[0m   \u001b[38;5;28;01mif\u001b[39;00m name \u001b[38;5;129;01mis\u001b[39;00m \u001b[38;5;129;01mnot\u001b[39;00m \u001b[38;5;28;01mNone\u001b[39;00m:\n",
            "\u001b[1;31mKeyboardInterrupt\u001b[0m: "
          ]
        }
      ],
      "source": [
        "BATCH_SIZE = 128\n",
        "EPOCHS = 40\n",
        "LAMBDA=0.05\n",
        "DROP_OUT=0.2\n",
        "DROP_OUT2=0.4\n",
        "filter_sizes = [2,3,4]\n",
        "num_filters = 256\n",
        "\n",
        "#import tensorflow as tf\n",
        "\n",
        "# Configure GPU options\n",
        "#gpu_options = tf.compat.v1.GPUOptions(per_process_gpu_memory_fraction=0.165)\n",
        "#sess = tf.compat.v1.Session(config=tf.compat.v1.ConfigProto(gpu_options=gpu_options))\n",
        "\n",
        "accuracies = []\n",
        "\n",
        "repeatNum = 10\n",
        "\n",
        "for i in range(repeatNum):\n",
        "    print(f\"Iteration {i+1}\")\n",
        "\n",
        "    # Define and compile the model\n",
        "    model = Modified_m_CNN(DROP_OUT, DROP_OUT2, LAMBDA)\n",
        "    model.compile(loss='categorical_crossentropy', optimizer='Adam', metrics=['accuracy'])\n",
        "\n",
        "    # Fit the model\n",
        "    model.fit([X_image, X_text], y_class, epochs=EPOCHS,\n",
        "                        batch_size=BATCH_SIZE, validation_data=([X_image_val, X_text_val], y_class_val), shuffle=True)\n",
        "\n",
        "    # Evaluate the model\n",
        "    score = model.evaluate([X_image_test, X_text_test], y_class_test, verbose=1)\n",
        "    accuracy = score[1] * 100\n",
        "    accuracies.append(accuracy)\n",
        "    print(\"%s: %.2f%%\" % (model.metrics_names[1], accuracy))\n",
        "\n",
        "# Calculate mean and variance of accuracies\n",
        "mean_accuracy = np.mean(accuracies)\n",
        "variance_accuracy = np.var(accuracies)\n",
        "\n",
        "# Print results\n",
        "formatted_accuracies = [f\"{acc:.2f}%\" for acc in accuracies]\n",
        "print(f\"Mean Accuracy: {mean_accuracy:.2f}%\")\n",
        "print(f\"Variance of Accuracy: {variance_accuracy:.2f}\")\n",
        "print(f\"Accuracies: {formatted_accuracies}\")"
      ]
    },
    {
      "cell_type": "code",
      "execution_count": null,
      "metadata": {
        "id": "p1uYASOakyxM"
      },
      "outputs": [],
      "source": [
        "#1 skigram1_fa_new_300_lemStem\n",
        "#[94.18, 94.0, 93.94, 93.88, 93.57, 93.63, 93.57, 93.26, 93.33, 92.96]#Mean Accuracy: 93.63%\n",
        "#Mean Accuracy: 93.63%\n",
        "#Variance of Accuracy: 0.13%\n",
        "#time: 34min 40s (started: 2024-07-18 14:43:38 +00:00)\n",
        "\n",
        "#2 skigram1_fa_new_200_lemStem\n",
        "#Mean Accuracy: 92.95%\n",
        "#Variance of Accuracy: 0.13%\n",
        "#[92.28, 92.47, 92.84, 92.65, 93.33, 93.2, 93.08, 93.33, 92.96, 93.33]\n",
        "#time: 26min 12s (started: 2024-07-18 15:30:10 +00:00)\n",
        "\n",
        "\n",
        "#3\n",
        "\n",
        "#4 skigram1_fa_new_300_lemOnlyWithStopWords"
      ]
    }
  ],
  "metadata": {
    "accelerator": "GPU",
    "colab": {
      "gpuType": "T4",
      "provenance": []
    },
    "kernelspec": {
      "display_name": "Python 3",
      "name": "python3"
    },
    "language_info": {
      "codemirror_mode": {
        "name": "ipython",
        "version": 3
      },
      "file_extension": ".py",
      "mimetype": "text/x-python",
      "name": "python",
      "nbconvert_exporter": "python",
      "pygments_lexer": "ipython3",
      "version": "3.11.9"
    }
  },
  "nbformat": 4,
  "nbformat_minor": 0
}
